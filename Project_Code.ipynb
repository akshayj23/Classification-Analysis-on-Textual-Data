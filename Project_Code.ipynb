{
  "nbformat": 4,
  "nbformat_minor": 0,
  "metadata": {
    "colab": {
      "name": "Rohan's_Version2 (2).ipynb",
      "provenance": [],
      "collapsed_sections": []
    },
    "kernelspec": {
      "name": "python3",
      "display_name": "Python 3"
    }
  },
  "cells": [
    {
      "cell_type": "code",
      "metadata": {
        "id": "XebCmmpjSbTH",
        "colab_type": "code",
        "colab": {}
      },
      "source": [
        "from sklearn.datasets import fetch_20newsgroups\n",
        "from sklearn.metrics import f1_score\n",
        "from sklearn.metrics import precision_score\n",
        "from sklearn.metrics import recall_score\n",
        "from sklearn.metrics import roc_curve\n",
        "from sklearn.metrics import roc_auc_score\n",
        "\n",
        "from sklearn.metrics import confusion_matrix\n",
        "from sklearn.metrics import classification_report\n",
        "\n",
        "from sklearn.feature_extraction.text import CountVectorizer\n",
        "from sklearn.feature_extraction.text import TfidfTransformer\n",
        "\n",
        "from nltk.stem import WordNetLemmatizer\n",
        "from nltk import pos_tag\n",
        "\n",
        "\n",
        "import matplotlib.pyplot as plt\n",
        "import numpy as np\n",
        "import random\n",
        "import nltk\n",
        "import re\n",
        "\n",
        "random.seed(42)\n",
        "\n",
        "nltk.download('punkt')\n",
        "nltk.download('stopwords')\n",
        "nltk.download('wordnet')\n",
        "nltk.download('averaged_perceptron_tagger')"
      ],
      "execution_count": 0,
      "outputs": []
    },
    {
      "cell_type": "code",
      "metadata": {
        "id": "DwuiKFtUScbv",
        "colab_type": "code",
        "colab": {}
      },
      "source": [
        "def plot_histogram():\n",
        "  newsgroups_train = fetch_20newsgroups(subset='train')\n",
        "  plt.figure\n",
        "  plt.title('Histogram of Training Documents according to Categories')\n",
        "  plt.xlabel('Name of the Categories')\n",
        "  plt.ylabel('Number of Documents')\n",
        "  plt.hist(newsgroups_train.target, bins=20);\n",
        "  plt.xticks(np.linspace(0,19,20), newsgroups_train.target_names,rotation=90)\n",
        "\n",
        "def load_dataset(categories,remove_header_flag):\n",
        "  if remove_header_flag==True:\n",
        "    train_dataset = fetch_20newsgroups(subset = 'train', categories = categories,shuffle = True, remove=('headers', 'footers'), random_state = None)\n",
        "    test_dataset = fetch_20newsgroups(subset = 'test', categories = categories,shuffle = True,remove=('headers', 'footers'), random_state = None)\n",
        "  else:\n",
        "    train_dataset = fetch_20newsgroups(subset = 'train', categories = categories,shuffle = True, random_state = None)\n",
        "    test_dataset = fetch_20newsgroups(subset = 'test', categories = categories,shuffle = True, random_state = None)\n",
        "  return train_dataset,test_dataset\n",
        "\n",
        "global lemmatizer\n",
        "lemmatizer = WordNetLemmatizer()\n",
        "\n",
        "def penn2morphy(penntag):\n",
        "    \"\"\" Converts Penn Treebank tags to WordNet. \"\"\"\n",
        "    morphy_tag = {'NN':'n', 'JJ':'a',\n",
        "                  'VB':'v', 'RB':'r'}\n",
        "    try:\n",
        "        return morphy_tag[penntag[:2]]\n",
        "    except:\n",
        "        return 'n'\n",
        "\n",
        "\n",
        "def lemmatize_sent(list_word):\n",
        "    # Text input is string, returns array of lowercased strings(words).\n",
        "    return [lemmatizer.lemmatize(word.lower(), pos=penn2morphy(tag)) \n",
        "            for word, tag in pos_tag(list_word)]\n",
        "\n",
        "def no_num_tokenizer(document):\n",
        "    from string import punctuation\n",
        "    from sklearn.feature_extraction import text\n",
        "\n",
        "    unlemmatized_words = [word for word in re.split('[^a-zA-Z]+', document) if len(word)>2]\n",
        "    stop_words = set(nltk.corpus.stopwords.words('english'))\n",
        "    # unlemmatized_words = [word for word in nltk.word_tokenize(document) if not word.strip('+').strip('-').replace('.','').isdigit()]\n",
        "    stop_words_skt = text.ENGLISH_STOP_WORDS\n",
        "    combined_stopwords = set.union(set(stop_words),set(punctuation),set(stop_words_skt))\n",
        "    words = [lemmatizer.lemmatize(word) for word in unlemmatized_words if word not in combined_stopwords]\n",
        "    words_pos = lemmatize_sent(words)\n",
        "    return words_pos\n",
        "\n",
        "def no_num_tokenizer_no_lemmatization(document):\n",
        "    from string import punctuation\n",
        "    from sklearn.feature_extraction import text\n",
        "\n",
        "    unlemmatized_words = [word for word in re.split('[^a-zA-Z]+', document) if len(word)>2]\n",
        "    stop_words = set(nltk.corpus.stopwords.words('english'))\n",
        "    # unlemmatized_words = [word for word in nltk.word_tokenize(document) if not word.strip('+').strip('-').replace('.','').isdigit()]\n",
        "    stop_words_skt = text.ENGLISH_STOP_WORDS\n",
        "    combined_stopwords = set.union(set(stop_words),set(punctuation),set(stop_words_skt))\n",
        "    words = [word for word in unlemmatized_words if word not in combined_stopwords]\n",
        "    return words\n",
        "\n",
        "\n",
        "\n",
        "def count_vectorization(train_dataset,test_dataset,minimum_df,lemmatization_flag):\n",
        "  if lemmatization_flag==True:\n",
        "    vectorizer = CountVectorizer(stop_words=None, tokenizer=no_num_tokenizer, min_df=minimum_df)\n",
        "  else:\n",
        "    vectorizer = CountVectorizer(stop_words=None, tokenizer=no_num_tokenizer_no_lemmatization, min_df=minimum_df)\n",
        "  X_train = vectorizer.fit_transform(train_dataset.data).toarray()\n",
        "  X_test = vectorizer.transform(test_dataset.data).toarray()\n",
        "  return X_train,X_test\n",
        "\n",
        "def feature_extraction(X_train,X_test):\n",
        "  tfidf_transformer = TfidfTransformer()\n",
        "  X_train_tfidf = tfidf_transformer.fit_transform(X_train)\n",
        "  X_test_tfidf = tfidf_transformer.transform(X_test)\n",
        "  print(\"Shape of X_train: \",X_train_tfidf.shape)\n",
        "  print(\"Shape of X_test: \",X_test_tfidf.shape)\n",
        "  return X_train_tfidf,X_test_tfidf\n",
        "\n",
        "#NMF \n",
        "from sklearn.decomposition import NMF\n",
        "from sklearn.decomposition import TruncatedSVD\n",
        "\n",
        "def NMF_reduction(X_train_tfidf,X_test_tfidf):\n",
        "  from sklearn.decomposition import NMF\n",
        "  model = NMF(n_components=50, init='random', random_state=0)\n",
        "  W_train = model.fit_transform(X_train_tfidf)\n",
        "  W_test = model.transform(X_test_tfidf)\n",
        "  H = model.components_\n",
        "  NMF_XWH = np.linalg.norm(X_train_tfidf - W_train.dot(H))**2\n",
        "  print('NMF error: ', NMF_XWH)\n",
        "  print('Reduced training shape using NMF: ', W_train.shape)\n",
        "  print('Reduced test shape using NMF: ', W_test.shape)\n",
        "  return W_train,W_test\n",
        "\n",
        "#SVD\n",
        "\n",
        "def LSI_reduction(X_train_tfidf,X_test_tfidf):\n",
        "  from sklearn.decomposition import TruncatedSVD\n",
        "  svd = TruncatedSVD(50)\n",
        "  X_svd_train = svd.fit_transform(X_train_tfidf)\n",
        "  X_svd_test =svd.transform(X_test_tfidf)\n",
        "  U = X_svd_train / svd.singular_values_\n",
        "  Sigma_matrix = np.diag(svd.singular_values_)\n",
        "  VT = svd.components_\n",
        "  LSI_XSVD = np.linalg.norm(X_train_tfidf - (U.dot(Sigma_matrix)).dot(VT))**2\n",
        "  print('LSI error: ', LSI_XSVD)\n",
        "  print('Reduced training shape using LSI: ', X_svd_train.shape)\n",
        "  print('Reduced test shape using LSI: ', X_svd_test.shape)\n",
        "  return X_svd_train,X_svd_test\n",
        "\n",
        "def dimensionality_reduction(X_train_tfidf,X_test_tfidf,choose_svd_flag):\n",
        "  if choose_svd_flag==True:\n",
        "    return NMF_reduction(X_train_tfidf,X_test_tfidf)\n",
        "  else:\n",
        "    return LSI_reduction(X_train_tfidf,X_test_tfidf)\n",
        "\n",
        "#Converts targets to binary classes\n",
        "def create_binary(train_dataset,test_dataset):\n",
        "  y_train =train_dataset.target.copy()\n",
        "  y_train[y_train<=3] = 0\n",
        "  y_train[y_train>3] = 1\n",
        "\n",
        "  y_test =test_dataset.target.copy()\n",
        "  y_test[y_test<=3] = 0\n",
        "  y_test[y_test>3] = 1\n",
        "  return y_train,y_test\n",
        "\n",
        "\n",
        "def evaluation_parameters(y_test,y_pred):\n",
        "  con_mat = confusion_matrix(y_test,y_pred)\n",
        "  tn, fp, fn, tp = con_mat.ravel()\n",
        "  precision = tp/(tp+fp)\n",
        "  recall = tp/(tp+fn)\n",
        "  f1 = 2*precision*recall/(precision+recall)\n",
        "  acc = (tp+tn)/(tn+fn+fp+tp)\n",
        "  print(\"Confusion Matrix:\")\n",
        "  print(con_mat)\n",
        "  print(\"The precision is: \",precision)\n",
        "  print(\"The recall is: \",recall)\n",
        "  print(\"The f1_score is: \",f1)\n",
        "  print(\"The accuracy is: \",acc)\n",
        "\n",
        "def plot_roc(y_test,y_score):\n",
        "  fpr,tpr,thresh=roc_curve(y_test,y_score)\n",
        "  plt.plot(fpr,tpr)\n",
        "  plt.grid()\n",
        "  plt.ylim(0,1.1)\n",
        "  print(\"The roc score is \",roc_auc_score(y_test,y_score))\n",
        "  plt.xlabel(\"Specificity\")\n",
        "  plt.ylabel(\"Sensitivity\")\n",
        "  plt.title(\"ROC Curve\")\n",
        "\n"
      ],
      "execution_count": 0,
      "outputs": []
    },
    {
      "cell_type": "code",
      "metadata": {
        "id": "VsJT2-E93Wns",
        "colab_type": "code",
        "outputId": "11dacdad-788f-4c3f-dd71-f28d60ef916b",
        "colab": {
          "base_uri": "https://localhost:8080/",
          "height": 556
        }
      },
      "source": [
        "#MAIN CODE\n",
        "plot_histogram()\n",
        "random.seed(42)\n",
        "categories = ['comp.graphics', 'comp.os.ms-windows.misc',\n",
        "'comp.sys.ibm.pc.hardware', 'comp.sys.mac.hardware',\n",
        "'rec.autos', 'rec.motorcycles',\n",
        "'rec.sport.baseball', 'rec.sport.hockey']\n",
        "train_dataset,test_dataset = load_dataset(categories,remove_header_flag = False)\n",
        "X_train,X_test = count_vectorization(train_dataset,test_dataset,minimum_df=3,lemmatization_flag=True)\n",
        "X_train_tfidf,X_test_tfidf = feature_extraction(X_train,X_test)\n",
        "W_train,W_test = NMF_reduction(X_train_tfidf,X_test_tfidf)\n",
        "X_svd_train,X_svd_test = LSI_reduction(X_train_tfidf,X_test_tfidf)\n",
        "y_train,y_test = create_binary(train_dataset,test_dataset)\n",
        "\n"
      ],
      "execution_count": 0,
      "outputs": [
        {
          "output_type": "stream",
          "text": [
            "Shape of X_train:  (4732, 13968)\n",
            "Shape of X_test:  (3150, 13968)\n",
            "NMF error:  4135.935904947255\n",
            "Reduced training shape using NMF:  (4732, 50)\n",
            "Reduced test shape using NMF:  (3150, 50)\n",
            "LSI error:  4097.068044570017\n",
            "Reduced training shape using LSI:  (4732, 50)\n",
            "Reduced test shape using LSI:  (3150, 50)\n"
          ],
          "name": "stdout"
        },
        {
          "output_type": "display_data",
          "data": {
            "image/png": "[encoded data removed]",
            "text/plain": [
              "<Figure size 432x288 with 1 Axes>"
            ]
          },
          "metadata": {
            "tags": []
          }
        }
      ]
    },
    {
      "cell_type": "code",
      "metadata": {
        "id": "x2NAXXGc3WdG",
        "colab_type": "code",
        "outputId": "cb379671-9bdb-4fcc-fc3e-02ca13d29244",
        "colab": {
          "base_uri": "https://localhost:8080/",
          "height": 431
        }
      },
      "source": [
        "#HARD SVM(gamma = 1000)\n",
        "from sklearn.svm import SVC\n",
        "our_svm_model = SVC(kernel = \"linear\",C=1000,probability=True)\n",
        "our_svm_model.fit(X_svd_train, y_train)\n",
        "y_pred = our_svm_model.predict(X_svd_test)\n",
        "y_score = our_svm_model.decision_function(X_svd_test)\n",
        "evaluation_parameters(y_test,y_pred)\n",
        "plot_roc(y_test,y_score)"
      ],
      "execution_count": 0,
      "outputs": [
        {
          "output_type": "stream",
          "text": [
            "Confusion Matrix:\n",
            "[[1504   56]\n",
            " [  29 1561]]\n",
            "The precision is:  0.9653679653679653\n",
            "The recall is:  0.9817610062893082\n",
            "The f1_score is:  0.9734954786404739\n",
            "The accuracy is:  0.973015873015873\n",
            "The roc score is  0.996432430253185\n"
          ],
          "name": "stdout"
        },
        {
          "output_type": "display_data",
          "data": {
            "image/png": "[encoded data removed]",
            "text/plain": [
              "<Figure size 432x288 with 1 Axes>"
            ]
          },
          "metadata": {
            "tags": []
          }
        }
      ]
    },
    {
      "cell_type": "code",
      "metadata": {
        "id": "heYZ1WPPSEsA",
        "colab_type": "code",
        "outputId": "67ab3589-39f0-4c4d-ca1f-4e61690d73e0",
        "colab": {
          "base_uri": "https://localhost:8080/",
          "height": 431
        }
      },
      "source": [
        "#SOFT SVM(gamma = 0.0001)\n",
        "from sklearn.svm import SVC\n",
        "from sklearn.svm import LinearSVC\n",
        "from sklearn.metrics import roc_auc_score\n",
        "our_svm_model = LinearSVC(C=0.0001)\n",
        "our_svm_model.fit(X_svd_train, y_train)\n",
        "y_pred = our_svm_model.predict(X_svd_test)\n",
        "y_score = our_svm_model.decision_function(X_svd_test)\n",
        "evaluation_parameters(y_test,y_pred)\n",
        "plot_roc(y_test,y_score)"
      ],
      "execution_count": 0,
      "outputs": [
        {
          "output_type": "stream",
          "text": [
            "Confusion Matrix:\n",
            "[[ 597  963]\n",
            " [   0 1590]]\n",
            "The precision is:  0.6227967097532315\n",
            "The recall is:  1.0\n",
            "The f1_score is:  0.7675597393193339\n",
            "The accuracy is:  0.6942857142857143\n",
            "The roc score is  0.9948153523625222\n"
          ],
          "name": "stdout"
        },
        {
          "output_type": "display_data",
          "data": {
            "image/png": "[encoded data removed]",
            "text/plain": [
              "<Figure size 432x288 with 1 Axes>"
            ]
          },
          "metadata": {
            "tags": []
          }
        }
      ]
    },
    {
      "cell_type": "code",
      "metadata": {
        "id": "MWyMsVJMrcP3",
        "colab_type": "code",
        "outputId": "960c0cac-0dcb-4175-9337-45885d874576",
        "colab": {
          "base_uri": "https://localhost:8080/",
          "height": 822
        }
      },
      "source": [
        "#CROSS VALIDATION FOR SVM\n",
        "from sklearn.model_selection import GridSearchCV\n",
        "param_grid_vals = np.power(np.repeat(10.0,7),np.arange(-3,4,1)).tolist()\n",
        "CVsvm = GridSearchCV(estimator = our_svm_model, param_grid = {'C':param_grid_vals},cv= 5)\n",
        "CVsvm.fit(X_svd_train, y_train)\n",
        "best_param = CVsvm.best_params_['C']\n",
        "print(\"The best parameter C is: \",best_param)\n",
        "y_pred = CVsvm.best_estimator_.predict(X_svd_test)\n",
        "y_score = CVsvm.best_estimator_.decision_function(X_svd_test)\n",
        "evaluation_parameters(y_test,y_pred)\n",
        "plot_roc(y_test,y_score)\n"
      ],
      "execution_count": 0,
      "outputs": [
        {
          "output_type": "stream",
          "text": [
            "/usr/local/lib/python3.6/dist-packages/sklearn/svm/_base.py:947: ConvergenceWarning: Liblinear failed to converge, increase the number of iterations.\n",
            "  \"the number of iterations.\", ConvergenceWarning)\n",
            "/usr/local/lib/python3.6/dist-packages/sklearn/svm/_base.py:947: ConvergenceWarning: Liblinear failed to converge, increase the number of iterations.\n",
            "  \"the number of iterations.\", ConvergenceWarning)\n",
            "/usr/local/lib/python3.6/dist-packages/sklearn/svm/_base.py:947: ConvergenceWarning: Liblinear failed to converge, increase the number of iterations.\n",
            "  \"the number of iterations.\", ConvergenceWarning)\n",
            "/usr/local/lib/python3.6/dist-packages/sklearn/svm/_base.py:947: ConvergenceWarning: Liblinear failed to converge, increase the number of iterations.\n",
            "  \"the number of iterations.\", ConvergenceWarning)\n",
            "/usr/local/lib/python3.6/dist-packages/sklearn/svm/_base.py:947: ConvergenceWarning: Liblinear failed to converge, increase the number of iterations.\n",
            "  \"the number of iterations.\", ConvergenceWarning)\n",
            "/usr/local/lib/python3.6/dist-packages/sklearn/svm/_base.py:947: ConvergenceWarning: Liblinear failed to converge, increase the number of iterations.\n",
            "  \"the number of iterations.\", ConvergenceWarning)\n",
            "/usr/local/lib/python3.6/dist-packages/sklearn/svm/_base.py:947: ConvergenceWarning: Liblinear failed to converge, increase the number of iterations.\n",
            "  \"the number of iterations.\", ConvergenceWarning)\n",
            "/usr/local/lib/python3.6/dist-packages/sklearn/svm/_base.py:947: ConvergenceWarning: Liblinear failed to converge, increase the number of iterations.\n",
            "  \"the number of iterations.\", ConvergenceWarning)\n",
            "/usr/local/lib/python3.6/dist-packages/sklearn/svm/_base.py:947: ConvergenceWarning: Liblinear failed to converge, increase the number of iterations.\n",
            "  \"the number of iterations.\", ConvergenceWarning)\n",
            "/usr/local/lib/python3.6/dist-packages/sklearn/svm/_base.py:947: ConvergenceWarning: Liblinear failed to converge, increase the number of iterations.\n",
            "  \"the number of iterations.\", ConvergenceWarning)\n",
            "/usr/local/lib/python3.6/dist-packages/sklearn/svm/_base.py:947: ConvergenceWarning: Liblinear failed to converge, increase the number of iterations.\n",
            "  \"the number of iterations.\", ConvergenceWarning)\n"
          ],
          "name": "stderr"
        },
        {
          "output_type": "stream",
          "text": [
            "The best parameter C is:  100.0\n",
            "Confusion Matrix:\n",
            "[[1508   52]\n",
            " [  27 1563]]\n",
            "The precision is:  0.9678018575851394\n",
            "The recall is:  0.9830188679245283\n",
            "The f1_score is:  0.9753510140405617\n",
            "The accuracy is:  0.974920634920635\n",
            "The roc score is  0.9966360264473472\n"
          ],
          "name": "stdout"
        },
        {
          "output_type": "display_data",
          "data": {
            "image/png": "[encoded data removed]",
            "text/plain": [
              "<Figure size 432x288 with 1 Axes>"
            ]
          },
          "metadata": {
            "tags": []
          }
        }
      ]
    },
    {
      "cell_type": "code",
      "metadata": {
        "id": "8XZFOKG_Y37i",
        "colab_type": "code",
        "outputId": "7a72d57e-019e-4582-f8f2-79f1385e3459",
        "colab": {
          "base_uri": "https://localhost:8080/",
          "height": 431
        }
      },
      "source": [
        "#Logreg without regularization\n",
        "\n",
        "from sklearn.linear_model import LogisticRegression\n",
        "clf = LogisticRegression(C = 1e13).fit(X_svd_train, y_train)\n",
        "y_pred = clf.predict(X_svd_test)\n",
        "y_score = np.squeeze(clf.predict_proba(X_svd_test))[:,1]\n",
        "evaluation_parameters(y_test,y_pred)\n",
        "plot_roc(y_test,y_score)"
      ],
      "execution_count": 0,
      "outputs": [
        {
          "output_type": "stream",
          "text": [
            "Confusion Matrix:\n",
            "[[1505   55]\n",
            " [  28 1562]]\n",
            "The precision is:  0.9659863945578231\n",
            "The recall is:  0.9823899371069182\n",
            "The f1_score is:  0.9741191144371687\n",
            "The accuracy is:  0.9736507936507937\n",
            "The roc score is  0.9965860345105628\n"
          ],
          "name": "stdout"
        },
        {
          "output_type": "display_data",
          "data": {
            "image/png": "[encoded data removed]",
            "text/plain": [
              "<Figure size 432x288 with 1 Axes>"
            ]
          },
          "metadata": {
            "tags": []
          }
        }
      ]
    },
    {
      "cell_type": "code",
      "metadata": {
        "id": "N8sl283Oru6N",
        "colab_type": "code",
        "outputId": "e17ec38f-3f06-4863-ac99-f09af4be9c68",
        "colab": {
          "base_uri": "https://localhost:8080/",
          "height": 448
        }
      },
      "source": [
        "#L2 regularization\n",
        "CVclf = GridSearchCV(estimator = clf, param_grid = {'C':param_grid_vals,'penalty':['l2'],'solver':['liblinear']},cv= 5)\n",
        "CVclf.fit(X_svd_train, y_train)\n",
        "best_param = CVclf.best_params_['C']\n",
        "print(\"The best parameter C is: \",best_param)\n",
        "y_pred = CVclf.best_estimator_.predict(X_svd_test)\n",
        "y_score = np.squeeze(CVclf.best_estimator_.predict_proba(X_svd_test))[:,1]\n",
        "evaluation_parameters(y_test,y_pred)\n",
        "plot_roc(y_test,y_score)\n"
      ],
      "execution_count": 0,
      "outputs": [
        {
          "output_type": "stream",
          "text": [
            "The best parameter C is:  1000.0\n",
            "Confusion Matrix:\n",
            "[[1507   53]\n",
            " [  25 1565]]\n",
            "The precision is:  0.9672435105067985\n",
            "The recall is:  0.9842767295597484\n",
            "The f1_score is:  0.9756857855361596\n",
            "The accuracy is:  0.9752380952380952\n",
            "The roc score is  0.9966215126592485\n"
          ],
          "name": "stdout"
        },
        {
          "output_type": "display_data",
          "data": {
            "image/png": "[encoded data removed]",
            "text/plain": [
              "<Figure size 432x288 with 1 Axes>"
            ]
          },
          "metadata": {
            "tags": []
          }
        }
      ]
    },
    {
      "cell_type": "code",
      "metadata": {
        "id": "RaZmJxrjtMMQ",
        "colab_type": "code",
        "outputId": "b9a67249-2d29-4315-e9e8-1c55a741b612",
        "colab": {
          "base_uri": "https://localhost:8080/",
          "height": 448
        }
      },
      "source": [
        "#L1 regularization\n",
        "CVclf = GridSearchCV(estimator = clf, param_grid = {'C':param_grid_vals,'penalty':['l1'],'solver':['liblinear']},cv= 5)\n",
        "CVclf.fit(X_svd_train, y_train)\n",
        "best_param = CVclf.best_params_['C']\n",
        "print(\"The best parameter C is: \",best_param)\n",
        "y_pred = CVclf.best_estimator_.predict(X_svd_test)\n",
        "y_score = np.squeeze(CVclf.best_estimator_.predict_proba(X_svd_test))[:,1]\n",
        "evaluation_parameters(y_test,y_pred)\n",
        "plot_roc(y_test,y_score)\n"
      ],
      "execution_count": 0,
      "outputs": [
        {
          "output_type": "stream",
          "text": [
            "The best parameter C is:  1000.0\n",
            "Confusion Matrix:\n",
            "[[1505   55]\n",
            " [  28 1562]]\n",
            "The precision is:  0.9659863945578231\n",
            "The recall is:  0.9823899371069182\n",
            "The f1_score is:  0.9741191144371687\n",
            "The accuracy is:  0.9736507936507937\n",
            "The roc score is  0.996590066118368\n"
          ],
          "name": "stdout"
        },
        {
          "output_type": "display_data",
          "data": {
            "image/png": "[encoded data removed]",
            "text/plain": [
              "<Figure size 432x288 with 1 Axes>"
            ]
          },
          "metadata": {
            "tags": []
          }
        }
      ]
    },
    {
      "cell_type": "code",
      "metadata": {
        "id": "bHVYqffqSNMu",
        "colab_type": "code",
        "outputId": "678a6fe1-a96f-47e5-ad90-ec26f960afac",
        "colab": {
          "base_uri": "https://localhost:8080/",
          "height": 431
        }
      },
      "source": [
        "#Naive Bayes\n",
        "from sklearn.naive_bayes import GaussianNB\n",
        "gnb = GaussianNB()\n",
        "y_pred = gnb.fit(X_svd_train, y_train).predict(X_svd_test)\n",
        "y_score = np.squeeze(gnb.predict_proba(X_svd_test))[:,1]\n",
        "evaluation_parameters(y_test,y_pred)\n",
        "plot_roc(y_test,y_score)"
      ],
      "execution_count": 0,
      "outputs": [
        {
          "output_type": "stream",
          "text": [
            "Confusion Matrix:\n",
            "[[1413  147]\n",
            " [  98 1492]]\n",
            "The precision is:  0.9103111653447223\n",
            "The recall is:  0.9383647798742139\n",
            "The f1_score is:  0.9241251161350263\n",
            "The accuracy is:  0.9222222222222223\n",
            "The roc score is  0.9605789388808257\n"
          ],
          "name": "stdout"
        },
        {
          "output_type": "display_data",
          "data": {
            "image/png": "[encoded data removed]",
            "text/plain": [
              "<Figure size 432x288 with 1 Axes>"
            ]
          },
          "metadata": {
            "tags": []
          }
        }
      ]
    },
    {
      "cell_type": "code",
      "metadata": {
        "id": "Md8twxO1ox-S",
        "colab_type": "code",
        "outputId": "7efc777e-7efe-4b0f-8b0c-17b16b013409",
        "colab": {
          "base_uri": "https://localhost:8080/",
          "height": 241
        }
      },
      "source": [
        "#Pipeline Implementation\n",
        "from sklearn.model_selection import GridSearchCV\n",
        "\n",
        "\n",
        "from sklearn.pipeline import Pipeline\n",
        "\n",
        "pipeline = Pipeline([('count_vectorization',CountVectorizer(min_df=3)),\\\n",
        "                      ('tfidf',TfidfTransformer()),('dim_red',TruncatedSVD()),('classifier',SVC())])\n",
        "param_grid = [\n",
        "{\n",
        "\n",
        "    'count_vectorization': [CountVectorizer()],\n",
        "    'count_vectorization__min_df':[3,5],\n",
        "    'count_vectorization__tokenizer':[no_num_tokenizer,no_num_tokenizer_no_lemmatization],\n",
        "    'dim_red': [TruncatedSVD(),NMF()],\n",
        "    'dim_red__n_components': [50],\n",
        "    'classifier': [SVC()],\n",
        "    'classifier__C': [100]\n",
        "}, \n",
        "{\n",
        "\n",
        "    'count_vectorization': [CountVectorizer()],\n",
        "    'count_vectorization__min_df':[3,5],\n",
        "    'count_vectorization__tokenizer':[no_num_tokenizer,no_num_tokenizer_no_lemmatization],\n",
        "    'dim_red': [TruncatedSVD(),NMF()],\n",
        "    'dim_red__n_components': [50],\n",
        "    'classifier': [LogisticRegression()],\n",
        "    'classifier__solver': ['liblinear'],\n",
        "    'classifier__penalty': ['l2','l1'], \n",
        "    'classifier__C': [100] \n",
        "},\n",
        "{\n",
        "\n",
        "    'count_vectorization': [CountVectorizer()],\n",
        "    'count_vectorization__min_df':[3,5],\n",
        "    'count_vectorization__tokenizer':[no_num_tokenizer,no_num_tokenizer_no_lemmatization],\n",
        "    'dim_red': [TruncatedSVD(),NMF()],\n",
        "    'dim_red__n_components': [50],\n",
        "    'classifier': [GaussianNB()]\n",
        "} \n",
        "]\n",
        "\n",
        "pipelinemodel = GridSearchCV(pipeline,cv =5,param_grid = param_grid,scoring='accuracy')\n",
        "pipelinemodel.fit(train_dataset.data,y_train)\n",
        "print(pipelinemodel.best_params_)"
      ],
      "execution_count": 0,
      "outputs": [
        {
          "output_type": "stream",
          "text": [
            "{'classifier': LogisticRegression(C=100, class_weight=None, dual=False, fit_intercept=True,\n",
            "                   intercept_scaling=1, l1_ratio=None, max_iter=100,\n",
            "                   multi_class='auto', n_jobs=None, penalty='l1',\n",
            "                   random_state=None, solver='liblinear', tol=0.0001, verbose=0,\n",
            "                   warm_start=False), 'classifier__C': 100, 'classifier__penalty': 'l1', 'classifier__solver': 'liblinear', 'count_vectorization': CountVectorizer(analyzer='word', binary=False, decode_error='strict',\n",
            "                dtype=<class 'numpy.int64'>, encoding='utf-8', input='content',\n",
            "                lowercase=True, max_df=1.0, max_features=None, min_df=3,\n",
            "                ngram_range=(1, 1), preprocessor=None, stop_words=None,\n",
            "                strip_accents=None, token_pattern='(?u)\\\\b\\\\w\\\\w+\\\\b',\n",
            "                tokenizer=<function no_num_tokenizer_no_lemmatization at 0x7f960b0a39d8>,\n",
            "                vocabulary=None), 'count_vectorization__min_df': 3, 'count_vectorization__tokenizer': <function no_num_tokenizer_no_lemmatization at 0x7f960b0a39d8>, 'dim_red': TruncatedSVD(algorithm='randomized', n_components=50, n_iter=5,\n",
            "             random_state=None, tol=0.0), 'dim_red__n_components': 50}\n"
          ],
          "name": "stdout"
        }
      ]
    },
    {
      "cell_type": "code",
      "metadata": {
        "id": "h_TBRiQOzinY",
        "colab_type": "code",
        "colab": {}
      },
      "source": [
        "#MULTI CLASS CLASSIFICATION SVM ONE VS Rest\n",
        "multi_class_categories= ['comp.sys.ibm.pc.hardware', 'comp.sys.mac.hardware', 'misc.forsale', 'soc.religion.christian']\n",
        "\n",
        "train_dataset,test_dataset = load_dataset(multi_class_categories,remove_header_flag=False)\n",
        "X_train,X_test = count_vectorization(train_dataset,test_dataset,minimum_df=3,lemmatization_flag=True)\n",
        "X_train_tfidf,X_test_tfidf = feature_extraction(X_train,X_test_tfidf)\n",
        "W_train,W_test = NMF_reduction(X_train_tfidf,X_test_tfidf)\n",
        "X_svd_train,X_svd_test = LSI_reduction(X_train_tfidf,X_test_tfidf)\n",
        "\n",
        "multi_class_svm = SVC(decision_function_shape='ovr',C=100.0)\n",
        "multi_class_svm.fit(X_svd_train, train_dataset.target)\n",
        "y_pred = multi_class_svm.predict(X_svd_test)\n",
        "confusion_matrix(test_dataset.target,y_pred)\n",
        "print(classification_report(test_dataset.target, y_pred, target_names=multi_class_categories))"
      ],
      "execution_count": 0,
      "outputs": []
    },
    {
      "cell_type": "code",
      "metadata": {
        "id": "noMx5lzW9kHg",
        "colab_type": "code",
        "colab": {}
      },
      "source": [
        "#MULTI CLASS CLASSIFICATION SVM ONE VS ONE\n",
        "\n",
        "multi_class_svm = SVC(decision_function_shape='ovo',C=100.0)\n",
        "multi_class_svm.fit(X_svd_train, train_dataset.target)\n",
        "y_pred = multi_class_svm.predict(X_svd_test)\n",
        "confusion_matrix(test_dataset.target,y_pred)\n",
        "print(classification_report(test_dataset.target, y_pred, target_names=multi_class_categories))"
      ],
      "execution_count": 0,
      "outputs": []
    },
    {
      "cell_type": "code",
      "metadata": {
        "id": "U7pTV6g4-f9O",
        "colab_type": "code",
        "colab": {}
      },
      "source": [
        "#MULTI CLASS CLASSIFICATION Gaussian Naive Bayes\n",
        "\n",
        "from sklearn.naive_bayes import GaussianNB\n",
        "gnb = GaussianNB()\n",
        "y_pred = gnb.fit(X_svd_train, train_dataset.target).predict(X_svd_test)\n",
        "confusion_matrix(test_dataset.target,y_pred)\n",
        "print(classification_report(test_dataset.target, y_pred, target_names=multi_class_categories))\n",
        "\n"
      ],
      "execution_count": 0,
      "outputs": []
    }
  ]
}